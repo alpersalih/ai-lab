{
 "cells": [
  {
   "cell_type": "code",
   "execution_count": 15,
   "id": "95267fc9-616b-443a-a5b2-bfb0ba8c31c0",
   "metadata": {},
   "outputs": [
    {
     "name": "stderr",
     "output_type": "stream",
     "text": [
      "Tomato_Bacterial_spot - train: 100%|██████████| 1488/1488 [00:09<00:00, 149.14it/s]\n",
      "Tomato_Bacterial_spot - val: 100%|██████████| 425/425 [00:02<00:00, 151.99it/s]\n",
      "Tomato_Bacterial_spot - test: 100%|██████████| 214/214 [00:01<00:00, 153.87it/s]\n",
      "Tomato_Early_blight - train: 100%|██████████| 700/700 [00:04<00:00, 155.79it/s]\n",
      "Tomato_Early_blight - val: 100%|██████████| 200/200 [00:01<00:00, 157.73it/s]\n",
      "Tomato_Early_blight - test: 100%|██████████| 100/100 [00:00<00:00, 138.50it/s]\n",
      "Tomato_healthy - train: 100%|██████████| 1113/1113 [00:07<00:00, 154.35it/s]\n",
      "Tomato_healthy - val: 100%|██████████| 318/318 [00:01<00:00, 168.94it/s]\n",
      "Tomato_healthy - test: 100%|██████████| 160/160 [00:01<00:00, 138.01it/s]\n",
      "Tomato_Late_blight - train: 100%|██████████| 1336/1336 [00:08<00:00, 159.07it/s]\n",
      "Tomato_Late_blight - val: 100%|██████████| 381/381 [00:02<00:00, 144.84it/s]\n",
      "Tomato_Late_blight - test: 100%|██████████| 192/192 [00:01<00:00, 153.83it/s]\n",
      "Tomato_Leaf_Mold - train: 100%|██████████| 666/666 [00:04<00:00, 154.66it/s]\n",
      "Tomato_Leaf_Mold - val: 100%|██████████| 190/190 [00:01<00:00, 120.51it/s]\n",
      "Tomato_Leaf_Mold - test: 100%|██████████| 96/96 [00:00<00:00, 147.98it/s]\n",
      "Tomato_Septoria_leaf_spot - train: 100%|██████████| 1239/1239 [00:08<00:00, 148.60it/s]\n",
      "Tomato_Septoria_leaf_spot - val: 100%|██████████| 354/354 [00:02<00:00, 146.22it/s]\n",
      "Tomato_Septoria_leaf_spot - test: 100%|██████████| 178/178 [00:01<00:00, 135.31it/s]\n",
      "Tomato_Spider_mites_Two_spotted_spider_mite - train: 100%|██████████| 1173/1173 [00:07<00:00, 160.82it/s]\n",
      "Tomato_Spider_mites_Two_spotted_spider_mite - val: 100%|██████████| 335/335 [00:02<00:00, 157.36it/s]\n",
      "Tomato_Spider_mites_Two_spotted_spider_mite - test: 100%|██████████| 168/168 [00:01<00:00, 155.94it/s]\n",
      "Tomato__Target_Spot - train: 100%|██████████| 982/982 [00:06<00:00, 153.55it/s]\n",
      "Tomato__Target_Spot - val: 100%|██████████| 280/280 [00:01<00:00, 151.27it/s]\n",
      "Tomato__Target_Spot - test: 100%|██████████| 142/142 [00:00<00:00, 170.26it/s]\n",
      "Tomato__Tomato_mosaic_virus - train: 100%|██████████| 261/261 [00:01<00:00, 175.88it/s]\n",
      "Tomato__Tomato_mosaic_virus - val: 100%|██████████| 74/74 [00:00<00:00, 117.22it/s]\n",
      "Tomato__Tomato_mosaic_virus - test: 100%|██████████| 38/38 [00:00<00:00, 134.74it/s]\n",
      "Tomato__Tomato_YellowLeaf__Curl_Virus - train: 100%|██████████| 2246/2246 [00:14<00:00, 150.19it/s]\n",
      "Tomato__Tomato_YellowLeaf__Curl_Virus - val: 100%|██████████| 641/641 [00:03<00:00, 166.83it/s]\n",
      "Tomato__Tomato_YellowLeaf__Curl_Virus - test: 100%|██████████| 322/322 [00:02<00:00, 144.74it/s]\n"
     ]
    }
   ],
   "source": [
    "import os\n",
    "import shutil\n",
    "import random\n",
    "from tqdm import tqdm\n",
    "\n",
    "# plantvillage-tomatoes klasörü notebook ile aynı seviyede (../ ile çıkıyoruz)\n",
    "source_dir = \"../plantvillage-tomatoes\"\n",
    "base_dir = \"../data\"\n",
    "splits = [\"train\", \"val\", \"test\"]\n",
    "split_ratios = [0.7, 0.2, 0.1]\n",
    "\n",
    "# train, val, test klasörlerini oluştur\n",
    "for split in splits:\n",
    "    os.makedirs(os.path.join(base_dir, split), exist_ok=True)\n",
    "\n",
    "# Her sınıf klasörünü dolaş ve görselleri bölüştür\n",
    "for class_name in os.listdir(source_dir):\n",
    "    class_path = os.path.join(source_dir, class_name)\n",
    "    if os.path.isdir(class_path):\n",
    "        images = os.listdir(class_path)\n",
    "        random.shuffle(images)\n",
    "\n",
    "        n_total = len(images)\n",
    "        n_train = int(n_total * split_ratios[0])\n",
    "        n_val = int(n_total * split_ratios[1])\n",
    "        n_test = n_total - n_train - n_val\n",
    "\n",
    "        split_data = {\n",
    "            \"train\": images[:n_train],\n",
    "            \"val\": images[n_train:n_train+n_val],\n",
    "            \"test\": images[n_train+n_val:]\n",
    "        }\n",
    "\n",
    "        for split in splits:\n",
    "            split_dir = os.path.join(base_dir, split, class_name)\n",
    "            os.makedirs(split_dir, exist_ok=True)\n",
    "\n",
    "            for img_name in tqdm(split_data[split], desc=f\"{class_name} - {split}\"):\n",
    "                src = os.path.join(class_path, img_name)\n",
    "                dst = os.path.join(split_dir, img_name)\n",
    "                shutil.copyfile(src, dst)\n"
   ]
  },
  {
   "cell_type": "code",
   "execution_count": 17,
   "id": "1d0b9235-0aa5-4123-8d15-ca9d7f550aca",
   "metadata": {},
   "outputs": [
    {
     "ename": "ImportError",
     "evalue": "Traceback (most recent call last):\n  File \"C:\\Users\\Monster\\anaconda3\\Lib\\site-packages\\tensorflow\\python\\pywrap_tensorflow.py\", line 73, in <module>\n    from tensorflow.python._pywrap_tensorflow_internal import *\nImportError: DLL load failed while importing _pywrap_tensorflow_internal: Devingen bağlantı kitaplığını (DLL) başlatma işlemi başarısız.\n\n\nFailed to load the native TensorFlow runtime.\nSee https://www.tensorflow.org/install/errors for some common causes and solutions.\nIf you need help, create an issue at https://github.com/tensorflow/tensorflow/issues and include the entire stack trace above this error message.",
     "output_type": "error",
     "traceback": [
      "\u001b[1;31m---------------------------------------------------------------------------\u001b[0m",
      "\u001b[1;31mImportError\u001b[0m                               Traceback (most recent call last)",
      "File \u001b[1;32m~\\anaconda3\\Lib\\site-packages\\tensorflow\\python\\pywrap_tensorflow.py:73\u001b[0m\n\u001b[0;32m     72\u001b[0m \u001b[38;5;28;01mtry\u001b[39;00m:\n\u001b[1;32m---> 73\u001b[0m   \u001b[38;5;28;01mfrom\u001b[39;00m \u001b[38;5;21;01mtensorflow\u001b[39;00m\u001b[38;5;21;01m.\u001b[39;00m\u001b[38;5;21;01mpython\u001b[39;00m\u001b[38;5;21;01m.\u001b[39;00m\u001b[38;5;21;01m_pywrap_tensorflow_internal\u001b[39;00m \u001b[38;5;28;01mimport\u001b[39;00m \u001b[38;5;241m*\u001b[39m\n\u001b[0;32m     74\u001b[0m \u001b[38;5;66;03m# This try catch logic is because there is no bazel equivalent for py_extension.\u001b[39;00m\n\u001b[0;32m     75\u001b[0m \u001b[38;5;66;03m# Externally in opensource we must enable exceptions to load the shared object\u001b[39;00m\n\u001b[0;32m     76\u001b[0m \u001b[38;5;66;03m# by exposing the PyInit symbols with pybind. This error will only be\u001b[39;00m\n\u001b[0;32m     77\u001b[0m \u001b[38;5;66;03m# caught internally or if someone changes the name of the target _pywrap_tensorflow_internal.\u001b[39;00m\n\u001b[0;32m     78\u001b[0m \n\u001b[0;32m     79\u001b[0m \u001b[38;5;66;03m# This logic is used in other internal projects using py_extension.\u001b[39;00m\n",
      "\u001b[1;31mImportError\u001b[0m: DLL load failed while importing _pywrap_tensorflow_internal: Devingen bağlantı kitaplığını (DLL) başlatma işlemi başarısız.",
      "\nDuring handling of the above exception, another exception occurred:\n",
      "\u001b[1;31mImportError\u001b[0m                               Traceback (most recent call last)",
      "Cell \u001b[1;32mIn[17], line 1\u001b[0m\n\u001b[1;32m----> 1\u001b[0m \u001b[38;5;28;01mfrom\u001b[39;00m \u001b[38;5;21;01mtensorflow\u001b[39;00m\u001b[38;5;21;01m.\u001b[39;00m\u001b[38;5;21;01mkeras\u001b[39;00m\u001b[38;5;21;01m.\u001b[39;00m\u001b[38;5;21;01mpreprocessing\u001b[39;00m\u001b[38;5;21;01m.\u001b[39;00m\u001b[38;5;21;01mimage\u001b[39;00m \u001b[38;5;28;01mimport\u001b[39;00m ImageDataGenerator\n\u001b[0;32m      3\u001b[0m \u001b[38;5;66;03m# Resim boyutu\u001b[39;00m\n\u001b[0;32m      4\u001b[0m img_size \u001b[38;5;241m=\u001b[39m (\u001b[38;5;241m224\u001b[39m, \u001b[38;5;241m224\u001b[39m)\n",
      "File \u001b[1;32m~\\anaconda3\\Lib\\site-packages\\tensorflow\\__init__.py:40\u001b[0m\n\u001b[0;32m     37\u001b[0m _os\u001b[38;5;241m.\u001b[39menviron\u001b[38;5;241m.\u001b[39msetdefault(\u001b[38;5;124m\"\u001b[39m\u001b[38;5;124mENABLE_RUNTIME_UPTIME_TELEMETRY\u001b[39m\u001b[38;5;124m\"\u001b[39m, \u001b[38;5;124m\"\u001b[39m\u001b[38;5;124m1\u001b[39m\u001b[38;5;124m\"\u001b[39m)\n\u001b[0;32m     39\u001b[0m \u001b[38;5;66;03m# Do not remove this line; See https://github.com/tensorflow/tensorflow/issues/42596\u001b[39;00m\n\u001b[1;32m---> 40\u001b[0m \u001b[38;5;28;01mfrom\u001b[39;00m \u001b[38;5;21;01mtensorflow\u001b[39;00m\u001b[38;5;21;01m.\u001b[39;00m\u001b[38;5;21;01mpython\u001b[39;00m \u001b[38;5;28;01mimport\u001b[39;00m pywrap_tensorflow \u001b[38;5;28;01mas\u001b[39;00m _pywrap_tensorflow  \u001b[38;5;66;03m# pylint: disable=unused-import\u001b[39;00m\n\u001b[0;32m     41\u001b[0m \u001b[38;5;28;01mfrom\u001b[39;00m \u001b[38;5;21;01mtensorflow\u001b[39;00m\u001b[38;5;21;01m.\u001b[39;00m\u001b[38;5;21;01mpython\u001b[39;00m\u001b[38;5;21;01m.\u001b[39;00m\u001b[38;5;21;01mtools\u001b[39;00m \u001b[38;5;28;01mimport\u001b[39;00m module_util \u001b[38;5;28;01mas\u001b[39;00m _module_util\n\u001b[0;32m     42\u001b[0m \u001b[38;5;28;01mfrom\u001b[39;00m \u001b[38;5;21;01mtensorflow\u001b[39;00m\u001b[38;5;21;01m.\u001b[39;00m\u001b[38;5;21;01mpython\u001b[39;00m\u001b[38;5;21;01m.\u001b[39;00m\u001b[38;5;21;01mutil\u001b[39;00m\u001b[38;5;21;01m.\u001b[39;00m\u001b[38;5;21;01mlazy_loader\u001b[39;00m \u001b[38;5;28;01mimport\u001b[39;00m KerasLazyLoader \u001b[38;5;28;01mas\u001b[39;00m _KerasLazyLoader\n",
      "File \u001b[1;32m~\\anaconda3\\Lib\\site-packages\\tensorflow\\python\\pywrap_tensorflow.py:88\u001b[0m\n\u001b[0;32m     86\u001b[0m     sys\u001b[38;5;241m.\u001b[39msetdlopenflags(_default_dlopen_flags)\n\u001b[0;32m     87\u001b[0m \u001b[38;5;28;01mexcept\u001b[39;00m \u001b[38;5;167;01mImportError\u001b[39;00m:\n\u001b[1;32m---> 88\u001b[0m   \u001b[38;5;28;01mraise\u001b[39;00m \u001b[38;5;167;01mImportError\u001b[39;00m(\n\u001b[0;32m     89\u001b[0m       \u001b[38;5;124mf\u001b[39m\u001b[38;5;124m'\u001b[39m\u001b[38;5;132;01m{\u001b[39;00mtraceback\u001b[38;5;241m.\u001b[39mformat_exc()\u001b[38;5;132;01m}\u001b[39;00m\u001b[38;5;124m'\u001b[39m\n\u001b[0;32m     90\u001b[0m       \u001b[38;5;124mf\u001b[39m\u001b[38;5;124m'\u001b[39m\u001b[38;5;130;01m\\n\u001b[39;00m\u001b[38;5;130;01m\\n\u001b[39;00m\u001b[38;5;124mFailed to load the native TensorFlow runtime.\u001b[39m\u001b[38;5;130;01m\\n\u001b[39;00m\u001b[38;5;124m'\u001b[39m\n\u001b[0;32m     91\u001b[0m       \u001b[38;5;124mf\u001b[39m\u001b[38;5;124m'\u001b[39m\u001b[38;5;124mSee https://www.tensorflow.org/install/errors \u001b[39m\u001b[38;5;124m'\u001b[39m\n\u001b[0;32m     92\u001b[0m       \u001b[38;5;124mf\u001b[39m\u001b[38;5;124m'\u001b[39m\u001b[38;5;124mfor some common causes and solutions.\u001b[39m\u001b[38;5;130;01m\\n\u001b[39;00m\u001b[38;5;124m'\u001b[39m\n\u001b[0;32m     93\u001b[0m       \u001b[38;5;124mf\u001b[39m\u001b[38;5;124m'\u001b[39m\u001b[38;5;124mIf you need help, create an issue \u001b[39m\u001b[38;5;124m'\u001b[39m\n\u001b[0;32m     94\u001b[0m       \u001b[38;5;124mf\u001b[39m\u001b[38;5;124m'\u001b[39m\u001b[38;5;124mat https://github.com/tensorflow/tensorflow/issues \u001b[39m\u001b[38;5;124m'\u001b[39m\n\u001b[0;32m     95\u001b[0m       \u001b[38;5;124mf\u001b[39m\u001b[38;5;124m'\u001b[39m\u001b[38;5;124mand include the entire stack trace above this error message.\u001b[39m\u001b[38;5;124m'\u001b[39m)\n",
      "\u001b[1;31mImportError\u001b[0m: Traceback (most recent call last):\n  File \"C:\\Users\\Monster\\anaconda3\\Lib\\site-packages\\tensorflow\\python\\pywrap_tensorflow.py\", line 73, in <module>\n    from tensorflow.python._pywrap_tensorflow_internal import *\nImportError: DLL load failed while importing _pywrap_tensorflow_internal: Devingen bağlantı kitaplığını (DLL) başlatma işlemi başarısız.\n\n\nFailed to load the native TensorFlow runtime.\nSee https://www.tensorflow.org/install/errors for some common causes and solutions.\nIf you need help, create an issue at https://github.com/tensorflow/tensorflow/issues and include the entire stack trace above this error message."
     ]
    }
   ],
   "source": [
    "from tensorflow.keras.preprocessing.image import ImageDataGenerator\n",
    "\n",
    "# Resim boyutu\n",
    "img_size = (224, 224)\n",
    "batch_size = 32\n",
    "\n",
    "# Eğitim verisi için augmentasyon\n",
    "train_datagen = ImageDataGenerator(\n",
    "    rescale=1./255,\n",
    "    rotation_range=20,\n",
    "    zoom_range=0.2,\n",
    "    horizontal_flip=True\n",
    ")"
   ]
  }
 ],
 "metadata": {
  "kernelspec": {
   "display_name": "Python 3 (ipykernel)",
   "language": "python",
   "name": "python3"
  },
  "language_info": {
   "codemirror_mode": {
    "name": "ipython",
    "version": 3
   },
   "file_extension": ".py",
   "mimetype": "text/x-python",
   "name": "python",
   "nbconvert_exporter": "python",
   "pygments_lexer": "ipython3",
   "version": "3.12.4"
  }
 },
 "nbformat": 4,
 "nbformat_minor": 5
}
